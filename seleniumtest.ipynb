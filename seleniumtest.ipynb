{
 "cells": [
  {
   "cell_type": "code",
   "execution_count": 1,
   "metadata": {},
   "outputs": [],
   "source": [
    "import os, logging, sys, time\n",
    "\n",
    "import urllib.request as req\n",
    "from bs4 import BeautifulSoup as beausp\n",
    "\n",
    "from selenium import webdriver\n",
    "from selenium.webdriver.common.keys import Keys\n",
    "from selenium.common.exceptions import NoSuchElementException\n",
    "\n",
    "import core.scraper as scraper\n",
    "import core.util.strings as strs\n",
    "from core.types.tweet import Tweet\n",
    "\n",
    "logging.basicConfig(stream=sys.stderr, level=logging.INFO)\n",
    "log = logging.getLogger(\"main\")\n"
   ]
  },
  {
   "cell_type": "code",
   "execution_count": 2,
   "metadata": {},
   "outputs": [],
   "source": [
    "# open page from direct request\n",
    "mypage='https://twitter.com/jon_bois'\n"
   ]
  },
  {
   "cell_type": "code",
   "execution_count": 11,
   "metadata": {},
   "outputs": [
    {
     "name": "stdout",
     "output_type": "stream",
     "text": [
      "found 19 tweets. \n",
      "Type is <class 'core.types.tweet.Tweet'>\n",
      "today is day one of the biggest project ive ever tried. it is called 17776  \n"
     ]
    }
   ],
   "source": [
    "sltweets=scraper.find_tweets('jon_bois', 2)\n",
    "print(f\"found {len(sltweets)} tweets. \")\n",
    "if len(sltweets) > 0:\n",
    "    print(f\"Type is {type(sltweets[0])}\")\n",
    "    sltweet=sltweets[0]\n",
    "    print(sltweet.cleantext)"
   ]
  },
  {
   "cell_type": "code",
   "execution_count": null,
   "metadata": {},
   "outputs": [],
   "source": [
    "browser=webdriver.Chrome()\n",
    "# user doesn't exist\n",
    "browser.get(\"https://twitter.com/jon_boisssss\")\n",
    "error=browser.find_element_by_xpath(\"//div[@class='errorpage-body-content']\\\n",
    "/h1\")\n",
    "if error is not None:\n",
    "    print (error.text)\n",
    "browser.quit()"
   ]
  },
  {
   "cell_type": "code",
   "execution_count": 15,
   "metadata": {},
   "outputs": [],
   "source": [
    "browser=webdriver.Chrome()\n",
    "# user doesn't exist\n",
    "browser.get(\"https://twitter.com/jon_bois\")\n",
    "tw=browser.find_element_by_xpath(\"//div[contains(@class, 'tweet')]\")\n"
   ]
  },
  {
   "cell_type": "code",
   "execution_count": 16,
   "metadata": {},
   "outputs": [
    {
     "name": "stdout",
     "output_type": "stream",
     "text": [
      "<selenium.webdriver.remote.webelement.WebElement (session=\"8bb2f184d5a582aa934ba24e27241474\", element=\"0.8430550001120252-2\")>\n",
      "1499302292\n"
     ]
    }
   ],
   "source": [
    "tim=tw.find_element_by_xpath(\"//small[@class='time']/a/span\")\n",
    "print (tim)\n",
    "print(tim.get_attribute(\"data-time\"))"
   ]
  },
  {
   "cell_type": "code",
   "execution_count": 17,
   "metadata": {},
   "outputs": [
    {
     "ename": "SyntaxError",
     "evalue": "invalid syntax (<ipython-input-17-e5c67a50e660>, line 3)",
     "output_type": "error",
     "traceback": [
      "\u001b[1;36m  File \u001b[1;32m\"<ipython-input-17-e5c67a50e660>\"\u001b[1;36m, line \u001b[1;32m3\u001b[0m\n\u001b[1;33m    `\u001b[0m\n\u001b[1;37m    ^\u001b[0m\n\u001b[1;31mSyntaxError\u001b[0m\u001b[1;31m:\u001b[0m invalid syntax\n"
     ]
    }
   ],
   "source": [
    "\n",
    "browser.quit()\n"
   ]
  }
 ],
 "metadata": {
  "kernelspec": {
   "display_name": "Python 3",
   "language": "python",
   "name": "python3"
  },
  "language_info": {
   "codemirror_mode": {
    "name": "ipython",
    "version": 3
   },
   "file_extension": ".py",
   "mimetype": "text/x-python",
   "name": "python",
   "nbconvert_exporter": "python",
   "pygments_lexer": "ipython3",
   "version": "3.6.5"
  }
 },
 "nbformat": 4,
 "nbformat_minor": 2
}
