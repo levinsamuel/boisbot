{
 "cells": [
  {
   "cell_type": "code",
   "execution_count": 1,
   "metadata": {},
   "outputs": [],
   "source": [
    "import urllib.request as req\n",
    "from bs4 import BeautifulSoup as beausp\n",
    "import os, logging, sys, time\n",
    "\n",
    "from selenium import webdriver\n",
    "from selenium.webdriver.common.keys import Keys\n",
    "from core.types.tweet import Tweet\n",
    "import core.util.strings as strs\n",
    "\n",
    "logging.basicConfig(stream=sys.stderr, level=logging.INFO)\n",
    "log = logging.getLogger(\"main\")\n"
   ]
  },
  {
   "cell_type": "code",
   "execution_count": 20,
   "metadata": {},
   "outputs": [
    {
     "name": "stdout",
     "output_type": "stream",
     "text": [
      "Tweets found: 19\n"
     ]
    }
   ],
   "source": [
    "# open page from direct request\n",
    "mypage='https://twitter.com/jon_bois'\n",
    "\n",
    "tweets=Tweet.getTweets(mypage)\n",
    "\n",
    "print(f\"Tweets found: {len(tweets)}\")\n",
    "tweet=tweets[0]\n"
   ]
  },
  {
   "cell_type": "code",
   "execution_count": 12,
   "metadata": {},
   "outputs": [
    {
     "name": "stdout",
     "output_type": "stream",
     "text": [
      "Help on built-in function sleep in module time:\n",
      "\n",
      "sleep(...)\n",
      "    sleep(seconds)\n",
      "    \n",
      "    Delay execution for a given number of seconds.  The argument may be\n",
      "    a floating point number for subsecond precision.\n",
      "\n"
     ]
    }
   ],
   "source": [
    "help(time.sleep)"
   ]
  },
  {
   "cell_type": "code",
   "execution_count": 40,
   "metadata": {},
   "outputs": [],
   "source": [
    "def findTweets(waits):\n",
    "    \"\"\"Use Selenium to scroll and find a list of tweets.\"\"\"\n",
    "    \n",
    "    browser=webdriver.Chrome()\n",
    "    browser.get(mypage)\n",
    "    time.sleep(1)\n",
    "\n",
    "    body=browser.find_element_by_tag_name('body')\n",
    "\n",
    "    for i in range(waits):\n",
    "        if i > 0:\n",
    "            time.sleep(3)\n",
    "        for _ in range(5):\n",
    "            body.send_keys(Keys.PAGE_DOWN)\n",
    "            time.sleep(0.2)\n",
    "        \n",
    "        \n",
    "    # \n",
    "    tweets=browser.find_elements_by_xpath(\n",
    "        \"//div[contains(@class, 'tweet')][@data-screen-name='jon_bois']\")\n",
    "    return tweets\n",
    "    "
   ]
  },
  {
   "cell_type": "code",
   "execution_count": 41,
   "metadata": {},
   "outputs": [
    {
     "name": "stdout",
     "output_type": "stream",
     "text": [
      "found 34 tweets. \n",
      "Type is <class 'selenium.webdriver.remote.webelement.WebElement'>\n",
      "today is day one of the biggest project i’ve ever tried. it is called 17776: https://www.sbnation.com/a/17776-football …\n"
     ]
    }
   ],
   "source": [
    "sltweets=findTweets(2)\n",
    "print(f\"found {len(sltweets)} tweets. \")\n",
    "if len(sltweets) > 0:\n",
    "    print(f\"Type is {type(sltweets[0])}\")\n",
    "    sltweet=sltweets[0].find_element_by_class_name('tweet-text')\n",
    "    print(sltweet.text)"
   ]
  }
 ],
 "metadata": {
  "kernelspec": {
   "display_name": "Python 3",
   "language": "python",
   "name": "python3"
  },
  "language_info": {
   "codemirror_mode": {
    "name": "ipython",
    "version": 3
   },
   "file_extension": ".py",
   "mimetype": "text/x-python",
   "name": "python",
   "nbconvert_exporter": "python",
   "pygments_lexer": "ipython3",
   "version": "3.6.5"
  }
 },
 "nbformat": 4,
 "nbformat_minor": 2
}
