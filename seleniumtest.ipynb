{
 "cells": [
  {
   "cell_type": "code",
   "execution_count": 1,
   "metadata": {},
   "outputs": [],
   "source": [
    "import os, logging, sys, time\n",
    "\n",
    "import urllib.request as req\n",
    "from bs4 import BeautifulSoup as beausp\n",
    "\n",
    "from selenium import webdriver\n",
    "from selenium.webdriver.common.keys import Keys\n",
    "from selenium.common.exceptions import NoSuchElementException\n",
    "\n",
    "import core.scraper as scraper\n",
    "import core.util.strings as strs\n",
    "from core.types.tweet import Tweet\n",
    "\n",
    "logging.basicConfig(stream=sys.stderr, level=logging.INFO)\n",
    "log = logging.getLogger(\"main\")\n"
   ]
  },
  {
   "cell_type": "code",
   "execution_count": 2,
   "metadata": {},
   "outputs": [],
   "source": [
    "# open page from direct request\n",
    "mypage='https://twitter.com/jon_bois'\n"
   ]
  },
  {
   "cell_type": "code",
   "execution_count": 5,
   "metadata": {},
   "outputs": [
    {
     "name": "stdout",
     "output_type": "stream",
     "text": [
      "found 36 tweets. \n",
      "Type is <class 'selenium.webdriver.remote.webelement.WebElement'>\n",
      "today is day one of the biggest project i’ve ever tried. it is called 17776: https://www.sbnation.com/a/17776-football …\n"
     ]
    }
   ],
   "source": [
    "sltweets=scraper.find_tweets('jon_bois', 2)\n",
    "print(f\"found {len(sltweets)} tweets. \")\n",
    "if len(sltweets) > 0:\n",
    "    print(f\"Type is {type(sltweets[0])}\")\n",
    "    sltweet=sltweets[0].find_element_by_class_name('tweet-text')\n",
    "    print(sltweet.text)"
   ]
  },
  {
   "cell_type": "code",
   "execution_count": null,
   "metadata": {},
   "outputs": [],
   "source": [
    "browser=webdriver.Chrome()\n",
    "# user doesn't exist\n",
    "browser.get(\"https://twitter.com/jon_boisssss\")\n",
    "error=browser.find_element_by_xpath(\"//div[@class='errorpage-body-content']\\\n",
    "/h1\")\n",
    "if error is not None:\n",
    "    print (error.text)"
   ]
  },
  {
   "cell_type": "code",
   "execution_count": null,
   "metadata": {},
   "outputs": [],
   "source": [
    "log.setLevel(logging.DEBUG)\n",
    "\n",
    "for slt in sltweets:\n",
    "    sltext=slt.find_element_by_class_name('tweet-text')\n",
    "    print(f\"Text: {sltext.text}\")"
   ]
  },
  {
   "cell_type": "code",
   "execution_count": null,
   "metadata": {},
   "outputs": [],
   "source": [
    "with open(\"_test.txt\", \"w\") as f:\n",
    "    help(f.write)"
   ]
  },
  {
   "cell_type": "code",
   "execution_count": null,
   "metadata": {},
   "outputs": [],
   "source": [
    "import argparse\n",
    "\n",
    "parser=argparse.ArgumentParser(description='Scrape and print options.')\n",
    "parser.add_argument('user', type=str, help='Name of the twitter user.',\n",
    "                   metavar='User')\n",
    "\n",
    "parser.add_argument('-f', '--file', type=str, metavar='file')\n",
    "\n",
    "args=parser.parse_args(['-f', '_test.txt', 'jon_bois'])\n",
    "print(f\"File: {args.file}, user: {args.user}\")\n",
    "\n",
    "args=parser.parse_args(['jon_bois'])\n",
    "print(f\"File: {args.file}, user: {args.user}\")\n",
    "\n",
    "try:\n",
    "    args=parser.parse_args(['-f', 'test'])\n",
    "    print(f\"File: {args.file}, user: {args.user}\")\n",
    "except:\n",
    "    print(\"required value missing\")"
   ]
  }
 ],
 "metadata": {
  "kernelspec": {
   "display_name": "Python 3",
   "language": "python",
   "name": "python3"
  },
  "language_info": {
   "codemirror_mode": {
    "name": "ipython",
    "version": 3
   },
   "file_extension": ".py",
   "mimetype": "text/x-python",
   "name": "python",
   "nbconvert_exporter": "python",
   "pygments_lexer": "ipython3",
   "version": "3.6.5"
  }
 },
 "nbformat": 4,
 "nbformat_minor": 2
}
