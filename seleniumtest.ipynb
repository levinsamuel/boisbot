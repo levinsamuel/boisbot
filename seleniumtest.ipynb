{
 "cells": [
  {
   "cell_type": "code",
   "execution_count": 1,
   "metadata": {},
   "outputs": [],
   "source": [
    "import urllib.request as req\n",
    "from bs4 import BeautifulSoup as beausp\n",
    "import os, logging, sys, time\n",
    "\n",
    "from selenium import webdriver\n",
    "from selenium.webdriver.common.keys import Keys\n",
    "from core.types.tweet import Tweet\n",
    "import core.util.strings as strs\n",
    "\n",
    "logging.basicConfig(stream=sys.stderr, level=logging.INFO)\n",
    "log = logging.getLogger(\"main\")\n"
   ]
  },
  {
   "cell_type": "code",
   "execution_count": 2,
   "metadata": {},
   "outputs": [
    {
     "name": "stdout",
     "output_type": "stream",
     "text": [
      "Tweets found: 19\n"
     ]
    }
   ],
   "source": [
    "# open page from direct request\n",
    "mypage='https://twitter.com/jon_bois'\n"
   ]
  },
  {
   "cell_type": "code",
   "execution_count": 4,
   "metadata": {},
   "outputs": [],
   "source": [
    "def findTweets(waits):\n",
    "    \"\"\"Use Selenium to scroll and find a list of tweets.\"\"\"\n",
    "    \n",
    "    browser=webdriver.Chrome()\n",
    "    browser.get(mypage)\n",
    "    time.sleep(1)\n",
    "\n",
    "    body=browser.find_element_by_tag_name('body')\n",
    "\n",
    "    for i in range(waits):\n",
    "        if i > 0:\n",
    "            time.sleep(3)\n",
    "        for _ in range(5):\n",
    "            body.send_keys(Keys.PAGE_DOWN)\n",
    "            time.sleep(0.2)\n",
    "        \n",
    "        \n",
    "    # \n",
    "    tweets=browser.find_elements_by_xpath(\n",
    "        \"//div[contains(@class, 'tweet')][@data-screen-name='jon_bois']\")\n",
    "    return tweets\n",
    "    "
   ]
  },
  {
   "cell_type": "code",
   "execution_count": 5,
   "metadata": {},
   "outputs": [
    {
     "name": "stdout",
     "output_type": "stream",
     "text": [
      "found 34 tweets. \n",
      "Type is <class 'selenium.webdriver.remote.webelement.WebElement'>\n",
      "today is day one of the biggest project i’ve ever tried. it is called 17776: https://www.sbnation.com/a/17776-football …\n"
     ]
    }
   ],
   "source": [
    "sltweets=findTweets(2)\n",
    "print(f\"found {len(sltweets)} tweets. \")\n",
    "if len(sltweets) > 0:\n",
    "    print(f\"Type is {type(sltweets[0])}\")\n",
    "    sltweet=sltweets[0].find_element_by_class_name('tweet-text')\n",
    "    print(sltweet.text)"
   ]
  },
  {
   "cell_type": "code",
   "execution_count": 8,
   "metadata": {},
   "outputs": [
    {
     "name": "stdout",
     "output_type": "stream",
     "text": [
      "Text: today is day one of the biggest project i’ve ever tried. it is called 17776: https://www.sbnation.com/a/17776-football …\n",
      "Text: we wrote a bunch of scary short stories at @sbnation. i wrote one about a pitcher with a 0.11 era\n",
      "Text: working on stuff\n",
      "Text: hope a red dead redemption 2 commercial comes on so i can watch it\n",
      "Text: this might be the best one they’ve done so far\n",
      "Text: i miss having jon gruden in the booth. he delivered an unwavering, fieri-like spirit of enthusiasm during an otherwise bad weeknight football game. we were pals\n",
      "Text: this is a periodical expression of appreciation for all the trans/nb people who follow me. love y’all <3\n",
      "Text: whoops i only searched post-merger era (1970-present). namath had a lot more before then. thanks @gwbecher, sorry joe https://twitter.com/gwbecher/status/1054216427220148224 …\n",
      "Text: excited to watch the fourth quarter of a nationally-televised blowout featuring two teams that have never lost their cool before\n",
      "Text: my favorite team is good because of something i did\n",
      "Text: yeah, the guy who made it needs to balance his audio better\n",
      "Text: it’d be cool if the play that starts every football game mattered at all\n",
      "Text: \n",
      "Text: nobody can score in this game becuase there is no bal\n",
      "Text: every sportswriter still has at least a dozen screenshots on their hard drive from 2011 that look like this because we weren’t fast enough\n",
      "Text: ah, it seems there are many nfl games afoot\n",
      "Text: so are some colleges better than other ones? they’re all basically the same, right? what’s the deal with all that\n",
      "Text: watching football and reacting to what happens\n",
      "Text: welcome to college football saturday\n",
      "Text: i’ve got nlcs game 6, nlcs game 7 if necessary, world series game 1, world series game 2, world series game 3, world series game 4, world series game 5 if necessary, world series game 6 if necessary, and world series game 7 if necessary fever\n",
      "Text: y’all know @MacAree? he helped me make 17776 and i absolutely couldn’t have done it without him. his home was just hit by a historically bad flood and tons of his stuff is ruined. if you’d like to chip in and help out my buddy:\n",
      "Text: playing video games\n",
      "Text: hey sorry, i didn’t get around to tweeting anything today. i might be free tonight, i’ll try to post a tweet or two later if i can\n",
      "Text: julio was great not only because of his ridiculously weird stance, but because at age 46 he would lose grip of his bat and send it flying. one time he did this twice in one at-bat\n",
      "Text: my favorite hitters to watch ever:\n",
      "\n",
      "1. griffey (cleanest swing)\n",
      "2. altuve (best-engineered swing)\n",
      "3. vlad (batted like he was playing pong)\n",
      "4. willie mcgee (swung like he wished baseball was never invented)\n",
      "5. francoeur (likely had never heard of baseball)\n",
      "Text: too busy to tweet right now! get outta here! git!\n",
      "Text: baseball gloves are puppets. that’s just the way i feel\n",
      "Text: staying up until three in the morning to watch a brewers game like i always do\n",
      "Text: working on stuff\n",
      "Text: jason witten often says stuff as a commentator that isn’t smart at all, but he loves to watch football and gets excited about it. a lot of times we’re watching football by ourselves and it’s nice to have a buddy\n",
      "Text: yeah lore is card show\n",
      "Text: whenever i see an @NFL_Scorigami tweet\n",
      "Text: i don’t mind losing, that was one of the coolest games i’ve ever seen\n",
      "Text: sony and michel’s high school reunion\n"
     ]
    }
   ],
   "source": [
    "log.setLevel(logging.DEBUG)\n",
    "\n",
    "for slt in sltweets:\n",
    "    sltext=slt.find_element_by_class_name('tweet-text')\n",
    "    print(f\"Text: {sltext.text}\")"
   ]
  },
  {
   "cell_type": "code",
   "execution_count": 4,
   "metadata": {},
   "outputs": [
    {
     "name": "stdout",
     "output_type": "stream",
     "text": [
      "Help on built-in function write:\n",
      "\n",
      "write(text, /) method of _io.TextIOWrapper instance\n",
      "    Write string to stream.\n",
      "    Returns the number of characters written (which is always equal to\n",
      "    the length of the string).\n",
      "\n"
     ]
    }
   ],
   "source": [
    "f=open(\"sample.txt\", \"w\")\n",
    "help(f.write)\n",
    "f.close()"
   ]
  }
 ],
 "metadata": {
  "kernelspec": {
   "display_name": "Python 3",
   "language": "python",
   "name": "python3"
  },
  "language_info": {
   "codemirror_mode": {
    "name": "ipython",
    "version": 3
   },
   "file_extension": ".py",
   "mimetype": "text/x-python",
   "name": "python",
   "nbconvert_exporter": "python",
   "pygments_lexer": "ipython3",
   "version": "3.6.5"
  }
 },
 "nbformat": 4,
 "nbformat_minor": 2
}
