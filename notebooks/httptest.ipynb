{
 "cells": [
  {
   "cell_type": "markdown",
   "metadata": {},
   "source": [
    "## Imports"
   ]
  },
  {
   "cell_type": "code",
   "execution_count": null,
   "metadata": {},
   "outputs": [],
   "source": [
    "import urllib.request as req\n",
    "from bs4 import BeautifulSoup as beausp\n",
    "import os, re, logging, sys, time\n",
    "from IPython.display import Image\n",
    "sps = set(sys.path)\n",
    "sps.add('..')\n",
    "sys.path = list(sps)\n",
    "from core.util import strings\n",
    "\n",
    "logging.basicConfig(stream=sys.stderr, level=logging.INFO)\n",
    "log = logging.getLogger(\"main\")\n",
    "\n",
    "\n",
    "tweettextattrs={'class': 'tweet-text'}"
   ]
  },
  {
   "cell_type": "markdown",
   "metadata": {},
   "source": [
    "## Local test\n",
    "\n",
    "### Get sample HTML containing tweets with outer divs"
   ]
  },
  {
   "cell_type": "code",
   "execution_count": null,
   "metadata": {},
   "outputs": [],
   "source": [
    "# Get the real path to the file for the URL\n",
    "\n",
    "test_file=os.path.realpath('../data/smaller.html')\n",
    "test_file"
   ]
  },
  {
   "cell_type": "markdown",
   "metadata": {},
   "source": [
    "### Open test file, parse into `tsoup` object"
   ]
  },
  {
   "cell_type": "code",
   "execution_count": null,
   "metadata": {},
   "outputs": [],
   "source": [
    "testpage='file:///' + test_file\n",
    "tpage = req.urlopen(url=testpage)\n",
    "tsoup = beausp(tpage, 'html.parser')\n",
    "print (f\"Type of soup object is: {type(tsoup)}\")"
   ]
  },
  {
   "cell_type": "markdown",
   "metadata": {},
   "source": [
    "### Find `<p>` elements in html"
   ]
  },
  {
   "cell_type": "code",
   "execution_count": null,
   "metadata": {},
   "outputs": [],
   "source": [
    "twts=tsoup.findAll(name='p', attrs=tweettextattrs)\n",
    "# help(tsoup.find)\n",
    "\n",
    "twtext=twts[0].text\n",
    "print(f\"Matches found: {len(twts)}\")\n",
    "print(twtext)"
   ]
  },
  {
   "cell_type": "markdown",
   "metadata": {},
   "source": [
    "## Read a page from the web and parse it"
   ]
  },
  {
   "cell_type": "code",
   "execution_count": null,
   "metadata": {},
   "outputs": [],
   "source": [
    "mypage='https://twitter.com/jon_bois'\n",
    "page = req.urlopen(url=mypage)\n",
    "soup = beausp(page, 'html.parser')"
   ]
  },
  {
   "cell_type": "markdown",
   "metadata": {},
   "source": [
    "### Find `<p>` elements"
   ]
  },
  {
   "cell_type": "code",
   "execution_count": null,
   "metadata": {},
   "outputs": [],
   "source": [
    "log.setLevel(logging.INFO)\n",
    "\n",
    "outertwts=soup.findAll(name='div', attrs={'class':'tweet',\n",
    "                                          'data-screen-name':'jon_bois'})\n",
    "print(f\"Tweets found: {len(outertwts)}\")\n",
    "\n",
    "twt1=outertwts[0]\n",
    "twttext=twt1.find(name='p', attrs=tweettextattrs)\n",
    "\n",
    "print(f\"First tweet text: {twttext.text}\")\n",
    "\n",
    "nourls=strings.strip_url(twttext.text)\n",
    "print(f\"Stripped urls: {nourls}\")\n",
    "\n",
    "nononwords=strings.clean(inp=twttext.text,\n",
    "                         strip_non_word=True, strip_urls=True)\n",
    "print(f\"Stripped non words: {nononwords}\")"
   ]
  },
  {
   "cell_type": "markdown",
   "metadata": {},
   "source": [
    "### Find the time of posting within the element"
   ]
  },
  {
   "cell_type": "code",
   "execution_count": null,
   "metadata": {},
   "outputs": [],
   "source": [
    "timeel=twt1.find(name='small', attrs={'class':'time'})\n",
    "int(timeel.\n",
    "    findChild(name='a').\n",
    "    findChild(name='span').\n",
    "    attrs['data-time'])"
   ]
  },
  {
   "cell_type": "markdown",
   "metadata": {},
   "source": [
    "### Find the user icon"
   ]
  },
  {
   "cell_type": "code",
   "execution_count": null,
   "metadata": {},
   "outputs": [],
   "source": [
    "img=soup.find(name='img', attrs={'class': 'ProfileAvatar-image'})\n",
    "\n",
    "Image(url=img.attrs['src']) "
   ]
  }
 ],
 "metadata": {
  "kernelspec": {
   "display_name": "Python 3",
   "language": "python",
   "name": "python3"
  },
  "language_info": {
   "codemirror_mode": {
    "name": "ipython",
    "version": 3
   },
   "file_extension": ".py",
   "mimetype": "text/x-python",
   "name": "python",
   "nbconvert_exporter": "python",
   "pygments_lexer": "ipython3",
   "version": "3.6.5"
  }
 },
 "nbformat": 4,
 "nbformat_minor": 2
}
