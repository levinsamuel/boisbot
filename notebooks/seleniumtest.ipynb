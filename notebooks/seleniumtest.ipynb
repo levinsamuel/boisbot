{
 "cells": [
  {
   "cell_type": "code",
   "execution_count": 1,
   "metadata": {},
   "outputs": [],
   "source": [
    "import os, logging, sys, time\n",
    "\n",
    "sys.path.append(\"..\")\n",
    "\n",
    "import urllib.request as req\n",
    "from bs4 import BeautifulSoup as beausp\n",
    "\n",
    "from selenium import webdriver\n",
    "from selenium.webdriver.common.keys import Keys\n",
    "from selenium.common.exceptions import NoSuchElementException\n",
    "\n",
    "import core.scraper as scraper\n",
    "import core.util.strings as strs\n",
    "from core.types import Tweet\n",
    "\n",
    "logging.basicConfig(stream=sys.stderr, level=logging.INFO)\n",
    "log = logging.getLogger(\"main\")\n"
   ]
  },
  {
   "cell_type": "code",
   "execution_count": null,
   "metadata": {},
   "outputs": [],
   "source": [
    "# Test selenium-based 'find_tweets' method\n",
    "sltweets=scraper.find_tweets('jon_bois', 2)\n",
    "print(f\"found {len(sltweets)} tweets. \")\n",
    "if len(sltweets) > 0:\n",
    "    print(f\"Type is {type(sltweets[0])}\")\n",
    "    sltweet=sltweets[0]\n",
    "    print(sltweet.cleantext)"
   ]
  },
  {
   "cell_type": "code",
   "execution_count": null,
   "metadata": {},
   "outputs": [],
   "source": [
    "# Test finding the error page\n",
    "browser=webdriver.Chrome()\n",
    "# user doesn't exist\n",
    "browser.get(\"https://twitter.com/jon_boisssss\")\n",
    "error=browser.find_element_by_xpath(\"//div[@class='errorpage-body-content']\\\n",
    "/h1\")\n",
    "if error is not None:\n",
    "    print (error.text)\n",
    "browser.quit()"
   ]
  },
  {
   "cell_type": "code",
   "execution_count": null,
   "metadata": {},
   "outputs": [],
   "source": [
    "# Test finding time attribute\n",
    "browser=webdriver.Chrome()\n",
    "# user doesn't exist\n",
    "browser.get(\"https://twitter.com/jon_bois\")\n",
    "tw=browser.find_element_by_xpath(\"//div[contains(@class, 'tweet')]\")\n",
    "\n",
    "\n",
    "tim=tw.find_element_by_xpath(\"//small[@class='time']/a/span\")\n",
    "print (tim)\n",
    "print(tim.get_attribute(\"data-time\"))\n",
    "\n",
    "\n",
    "browser.quit()\n"
   ]
  }
 ],
 "metadata": {
  "kernelspec": {
   "display_name": "Python 3",
   "language": "python",
   "name": "python3"
  },
  "language_info": {
   "codemirror_mode": {
    "name": "ipython",
    "version": 3
   },
   "file_extension": ".py",
   "mimetype": "text/x-python",
   "name": "python",
   "nbconvert_exporter": "python",
   "pygments_lexer": "ipython3",
   "version": "3.6.5"
  }
 },
 "nbformat": 4,
 "nbformat_minor": 2
}
