{
 "cells": [
  {
   "cell_type": "code",
   "execution_count": 10,
   "metadata": {},
   "outputs": [],
   "source": [
    "import numpy\n",
    "import pathlib\n",
    "from keras.models import Sequential\n",
    "from keras.layers import Dense\n",
    "from keras.layers import Dropout\n",
    "from keras.layers import LSTM\n",
    "from keras.callbacks import ModelCheckpoint\n",
    "from keras.utils import np_utils\n",
    "import sys, os\n"
   ]
  },
  {
   "cell_type": "code",
   "execution_count": 33,
   "metadata": {},
   "outputs": [],
   "source": [
    "sps = set(sys.path)\n",
    "sps.add('..')\n",
    "sys.path = [sps]\n",
    "\n",
    "from core.util import data"
   ]
  },
  {
   "cell_type": "code",
   "execution_count": 2,
   "metadata": {},
   "outputs": [
    {
     "data": {
      "text/plain": [
       "['today is day one of the biggest project ive ever tried. it is called 17776 httpswww.sbnation.coma17776-football ',\n",
       " 'congratulations to all red sox fans who are staying up past three in the morning terrified that your unbelievably successful team wont win every game. you are now an honorary fox news grandpa',\n",
       " 'welcome to college football saturday',\n",
       " '.mlb 13th inning, suckers! im taking you rubes for at least four free innings of baseball. beware of jon the boring content bandit',\n",
       " 'things ive done in red dead 2 so far_- fought bear_- murdered by alligator_- killed 10 lawmen after being falsely accused of murder_- called a guy a coward and he ran away_- sat by a lake, reflected_- lassoed a guy off his horse, hogtied him, put him back on his own horse, left',\n",
       " 'red dead redemption 2 is a wonderful game. sending a fruit basket to the person who made it',\n",
       " 'twitter offered me extended logoff time if i volunteered to show up at the mall in my twitter uniform and recruit new posters',\n",
       " 'metacritic is great. it sidesteps the great gaming journalism and highlights all the stuff written like red dead redemption 2 is of a masterpiece. it is most definitely having a moment. when speaking of games it is whence a landmark.',\n",
       " 'working on stuff',\n",
       " 'the reason red dead redemption 2 is only a 97 on metacritic is that i gave it a 0. i just dont really like world war ii stuff']"
      ]
     },
     "execution_count": 2,
     "metadata": {},
     "output_type": "execute_result"
    }
   ],
   "source": [
    "with open('../data/5mintweets.txt') as f:\n",
    "    tweetstr=f.read()\n",
    "\n",
    "tweets=tweetstr.split('\\n')\n",
    "tweets[0:10]"
   ]
  },
  {
   "cell_type": "code",
   "execution_count": 3,
   "metadata": {},
   "outputs": [],
   "source": [
    "# Count characters and create map to integers\n",
    "chars=sorted(set(tweetstr))\n",
    "# Number of distinct characters\n",
    "chardict=len(chars)\n",
    "charcount=len(tweetstr)\n",
    "char_map={c:i for i,c in enumerate(chars)}"
   ]
  },
  {
   "cell_type": "code",
   "execution_count": 4,
   "metadata": {},
   "outputs": [
    {
     "name": "stdout",
     "output_type": "stream",
     "text": [
      "Total Patterns:  82090\n"
     ]
    }
   ],
   "source": [
    "# Create sub sequences of a fixed length to feed to network\n",
    "seq_length = 100\n",
    "dataX = []\n",
    "dataY = []\n",
    "for i in range(0, charcount - seq_length):\n",
    "    seq_in = tweetstr[i:i + seq_length]\n",
    "    seq_out = tweetstr[i + seq_length]\n",
    "    dataX.append([char_map[char] for char in seq_in])\n",
    "    dataY.append(char_map[seq_out])\n",
    "n_patterns = len(dataX)\n",
    "print (\"Total Patterns: \", n_patterns)"
   ]
  },
  {
   "cell_type": "code",
   "execution_count": 5,
   "metadata": {},
   "outputs": [],
   "source": [
    "# reshape X to be [samples, time steps, features]\n",
    "X = numpy.reshape(dataX, (n_patterns, seq_length, 1))\n",
    "# normalize\n",
    "X = X / float(chardict)\n",
    "# one hot encode the output variable\n",
    "y = np_utils.to_categorical(dataY)"
   ]
  },
  {
   "cell_type": "code",
   "execution_count": 9,
   "metadata": {},
   "outputs": [
    {
     "name": "stdout",
     "output_type": "stream",
     "text": [
      "47\n"
     ]
    }
   ],
   "source": [
    "# define the LSTM model\n",
    "model = Sequential()\n",
    "model.add(LSTM(256, input_shape=(X.shape[1], X.shape[2])))\n",
    "model.add(Dropout(0.2))\n",
    "model.add(Dense(y.shape[1], activation='softmax'))\n",
    "print(y.shape[1])\n",
    "model.compile(loss='categorical_crossentropy', optimizer='adam')"
   ]
  },
  {
   "cell_type": "code",
   "execution_count": 8,
   "metadata": {},
   "outputs": [],
   "source": [
    "# define the checkpoint\n",
    "pathlib.Path(\"../out/checkpoints\").mkdir(exist_ok=True)\n",
    "filepath=\"../out/checkpoints/weights-{epoch:02d}-{loss:.4f}.hdf5\"\n",
    "checkpoint = ModelCheckpoint(filepath, monitor='loss', verbose=1, save_best_only=True, mode='min')\n",
    "callbacks_list = [checkpoint]"
   ]
  },
  {
   "cell_type": "code",
   "execution_count": 33,
   "metadata": {
    "collapsed": true
   },
   "outputs": [
    {
     "name": "stdout",
     "output_type": "stream",
     "text": [
      "Epoch 1/20\n",
      "82090/82090 [==============================] - 408s 5ms/step - loss: 3.0283\n",
      "\n",
      "Epoch 00001: loss improved from inf to 3.02831, saving model to out/checkpoints/weights-01-3.0283.hdf5\n",
      "Epoch 2/20\n",
      "82090/82090 [==============================] - 403s 5ms/step - loss: 2.9023\n",
      "\n",
      "Epoch 00002: loss improved from 3.02831 to 2.90231, saving model to out/checkpoints/weights-02-2.9023.hdf5\n",
      "Epoch 3/20\n",
      "82090/82090 [==============================] - 399s 5ms/step - loss: 2.8533\n",
      "\n",
      "Epoch 00003: loss improved from 2.90231 to 2.85332, saving model to out/checkpoints/weights-03-2.8533.hdf5\n",
      "Epoch 4/20\n",
      "82090/82090 [==============================] - 409s 5ms/step - loss: 2.8223\n",
      "\n",
      "Epoch 00004: loss improved from 2.85332 to 2.82226, saving model to out/checkpoints/weights-04-2.8223.hdf5\n",
      "Epoch 5/20\n",
      "82090/82090 [==============================] - 487s 6ms/step - loss: 2.8040\n",
      "\n",
      "Epoch 00005: loss improved from 2.82226 to 2.80401, saving model to out/checkpoints/weights-05-2.8040.hdf5\n",
      "Epoch 6/20\n",
      "82090/82090 [==============================] - 500s 6ms/step - loss: 2.7823\n",
      "\n",
      "Epoch 00006: loss improved from 2.80401 to 2.78230, saving model to out/checkpoints/weights-06-2.7823.hdf5\n",
      "Epoch 7/20\n",
      "82090/82090 [==============================] - 482s 6ms/step - loss: 2.7672\n",
      "\n",
      "Epoch 00007: loss improved from 2.78230 to 2.76721, saving model to out/checkpoints/weights-07-2.7672.hdf5\n",
      "Epoch 8/20\n",
      "82090/82090 [==============================] - 475s 6ms/step - loss: 2.7429\n",
      "\n",
      "Epoch 00008: loss improved from 2.76721 to 2.74292, saving model to out/checkpoints/weights-08-2.7429.hdf5\n",
      "Epoch 9/20\n",
      "82090/82090 [==============================] - 424s 5ms/step - loss: 2.7228\n",
      "\n",
      "Epoch 00009: loss improved from 2.74292 to 2.72281, saving model to out/checkpoints/weights-09-2.7228.hdf5\n",
      "Epoch 10/20\n",
      "82090/82090 [==============================] - 403s 5ms/step - loss: 2.6949\n",
      "\n",
      "Epoch 00010: loss improved from 2.72281 to 2.69488, saving model to out/checkpoints/weights-10-2.6949.hdf5\n",
      "Epoch 11/20\n",
      "82090/82090 [==============================] - 404s 5ms/step - loss: 2.6692\n",
      "\n",
      "Epoch 00011: loss improved from 2.69488 to 2.66916, saving model to out/checkpoints/weights-11-2.6692.hdf5\n",
      "Epoch 12/20\n",
      "82090/82090 [==============================] - 405s 5ms/step - loss: 2.6468\n",
      "\n",
      "Epoch 00012: loss improved from 2.66916 to 2.64678, saving model to out/checkpoints/weights-12-2.6468.hdf5\n",
      "Epoch 13/20\n",
      "82090/82090 [==============================] - 407s 5ms/step - loss: 2.6233\n",
      "\n",
      "Epoch 00013: loss improved from 2.64678 to 2.62325, saving model to out/checkpoints/weights-13-2.6233.hdf5\n",
      "Epoch 14/20\n",
      "82090/82090 [==============================] - 404s 5ms/step - loss: 2.6021\n",
      "\n",
      "Epoch 00014: loss improved from 2.62325 to 2.60213, saving model to out/checkpoints/weights-14-2.6021.hdf5\n",
      "Epoch 15/20\n",
      "82090/82090 [==============================] - 433s 5ms/step - loss: 2.5790\n",
      "\n",
      "Epoch 00015: loss improved from 2.60213 to 2.57901, saving model to out/checkpoints/weights-15-2.5790.hdf5\n",
      "Epoch 16/20\n",
      "82090/82090 [==============================] - 461s 6ms/step - loss: 2.5555\n",
      "\n",
      "Epoch 00016: loss improved from 2.57901 to 2.55550, saving model to out/checkpoints/weights-16-2.5555.hdf5\n",
      "Epoch 17/20\n",
      "82090/82090 [==============================] - 475s 6ms/step - loss: 2.5305\n",
      "\n",
      "Epoch 00017: loss improved from 2.55550 to 2.53049, saving model to out/checkpoints/weights-17-2.5305.hdf5\n",
      "Epoch 18/20\n",
      "82090/82090 [==============================] - 470s 6ms/step - loss: 2.5039\n",
      "\n",
      "Epoch 00018: loss improved from 2.53049 to 2.50389, saving model to out/checkpoints/weights-18-2.5039.hdf5\n",
      "Epoch 19/20\n",
      "82090/82090 [==============================] - 455s 6ms/step - loss: 2.4744\n",
      "\n",
      "Epoch 00019: loss improved from 2.50389 to 2.47444, saving model to out/checkpoints/weights-19-2.4744.hdf5\n",
      "Epoch 20/20\n",
      "82090/82090 [==============================] - 465s 6ms/step - loss: 2.4457\n",
      "\n",
      "Epoch 00020: loss improved from 2.47444 to 2.44573, saving model to out/checkpoints/weights-20-2.4457.hdf5\n"
     ]
    },
    {
     "data": {
      "text/plain": [
       "<keras.callbacks.History at 0x28a7004cf60>"
      ]
     },
     "execution_count": 33,
     "metadata": {},
     "output_type": "execute_result"
    }
   ],
   "source": [
    "# Fit model\n",
    "model.fit(X, y, epochs=20, batch_size=128, callbacks=callbacks_list)"
   ]
  },
  {
   "cell_type": "code",
   "execution_count": 22,
   "metadata": {},
   "outputs": [
    {
     "name": "stdout",
     "output_type": "stream",
     "text": [
      "['weights-jon_bois-20-2.4457.hdf5']\n",
      "<class 'str'>\n",
      "Help on method_descriptor:\n",
      "\n",
      "find(...)\n",
      "    S.find(sub[, start[, end]]) -> int\n",
      "    \n",
      "    Return the lowest index in S where substring sub is found,\n",
      "    such that sub is contained within S[start:end].  Optional\n",
      "    arguments start and end are interpreted as in slice notation.\n",
      "    \n",
      "    Return -1 on failure.\n",
      "\n",
      "Help on method_descriptor:\n",
      "\n",
      "replace(...)\n",
      "    S.replace(old, new[, count]) -> str\n",
      "    \n",
      "    Return a copy of S with all occurrences of substring\n",
      "    old replaced by new.  If the optional argument count is\n",
      "    given, only the first count occurrences are replaced.\n",
      "\n"
     ]
    }
   ],
   "source": [
    "fls=os.listdir(\"../model\")\n",
    "print(fls)\n",
    "print(type(fls[0]))\n",
    "help(str.find)\n",
    "help(str.replace)"
   ]
  },
  {
   "cell_type": "code",
   "execution_count": 38,
   "metadata": {},
   "outputs": [
    {
     "name": "stdout",
     "output_type": "stream",
     "text": [
      "<class 'numpy.ndarray'>\n",
      "[[0.0212766 ]\n",
      " [0.74468085]\n",
      " [0.72340426]\n",
      " [0.53191489]\n",
      " [0.0212766 ]\n",
      " [0.74468085]\n",
      " [0.55319149]\n",
      " [0.0212766 ]\n",
      " [0.85106383]\n",
      " [0.59574468]\n",
      " [0.53191489]\n",
      " [0.0212766 ]\n",
      " [0.46808511]\n",
      " [0.61702128]\n",
      " [0.57446809]\n",
      " [0.57446809]\n",
      " [0.53191489]\n",
      " [0.82978723]\n",
      " [0.85106383]\n",
      " [0.0212766 ]\n",
      " [0.76595745]\n",
      " [0.80851064]\n",
      " [0.74468085]\n",
      " [0.63829787]\n",
      " [0.53191489]\n",
      " [0.4893617 ]\n",
      " [0.85106383]\n",
      " [0.0212766 ]\n",
      " [0.61702128]\n",
      " [0.89361702]\n",
      " [0.53191489]\n",
      " [0.0212766 ]\n",
      " [0.53191489]\n",
      " [0.89361702]\n",
      " [0.53191489]\n",
      " [0.80851064]\n",
      " [0.0212766 ]\n",
      " [0.85106383]\n",
      " [0.80851064]\n",
      " [0.61702128]\n",
      " [0.53191489]\n",
      " [0.5106383 ]\n",
      " [0.17021277]\n",
      " [0.0212766 ]\n",
      " [0.61702128]\n",
      " [0.85106383]\n",
      " [0.0212766 ]\n",
      " [0.61702128]\n",
      " [0.82978723]\n",
      " [0.0212766 ]\n",
      " [0.4893617 ]\n",
      " [0.44680851]\n",
      " [0.68085106]\n",
      " [0.68085106]\n",
      " [0.53191489]\n",
      " [0.5106383 ]\n",
      " [0.0212766 ]\n",
      " [0.21276596]\n",
      " [0.34042553]\n",
      " [0.34042553]\n",
      " [0.34042553]\n",
      " [0.31914894]\n",
      " [0.0212766 ]\n",
      " [0.59574468]\n",
      " [0.85106383]\n",
      " [0.85106383]\n",
      " [0.76595745]\n",
      " [0.82978723]\n",
      " [0.91489362]\n",
      " [0.91489362]\n",
      " [0.91489362]\n",
      " [0.17021277]\n",
      " [0.82978723]\n",
      " [0.46808511]\n",
      " [0.72340426]\n",
      " [0.44680851]\n",
      " [0.85106383]\n",
      " [0.61702128]\n",
      " [0.74468085]\n",
      " [0.72340426]\n",
      " [0.17021277]\n",
      " [0.4893617 ]\n",
      " [0.74468085]\n",
      " [0.70212766]\n",
      " [0.44680851]\n",
      " [0.21276596]\n",
      " [0.34042553]\n",
      " [0.34042553]\n",
      " [0.34042553]\n",
      " [0.31914894]\n",
      " [0.14893617]\n",
      " [0.55319149]\n",
      " [0.74468085]\n",
      " [0.74468085]\n",
      " [0.85106383]\n",
      " [0.46808511]\n",
      " [0.44680851]\n",
      " [0.68085106]\n",
      " [0.68085106]\n",
      " [0.0212766 ]]\n",
      "(100, 1)\n",
      "(1, 100, 1)\n"
     ]
    }
   ],
   "source": [
    "numpy.random.randint(0, 1000)\n",
    "print(type(X))\n",
    "print(X[12])\n",
    "print(X[12].shape)\n",
    "thrdX = numpy.reshape(X[12], (1,100,1))\n",
    "print(thrdX.shape)"
   ]
  }
 ],
 "metadata": {
  "kernelspec": {
   "display_name": "Python 3",
   "language": "python",
   "name": "python3"
  },
  "language_info": {
   "codemirror_mode": {
    "name": "ipython",
    "version": 3
   },
   "file_extension": ".py",
   "mimetype": "text/x-python",
   "name": "python",
   "nbconvert_exporter": "python",
   "pygments_lexer": "ipython3",
   "version": "3.6.5"
  }
 },
 "nbformat": 4,
 "nbformat_minor": 2
}
