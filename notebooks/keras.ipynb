{
 "cells": [
  {
   "cell_type": "code",
   "execution_count": 1,
   "metadata": {},
   "outputs": [
    {
     "name": "stderr",
     "output_type": "stream",
     "text": [
      "Using TensorFlow backend.\n"
     ]
    }
   ],
   "source": [
    "import numpy\n",
    "import pathlib\n",
    "from keras.models import Sequential\n",
    "from keras.layers import Dense\n",
    "from keras.layers import Dropout\n",
    "from keras.layers import LSTM\n",
    "from keras.callbacks import ModelCheckpoint\n",
    "from keras.utils import np_utils\n",
    "import sys, os\n"
   ]
  },
  {
   "cell_type": "code",
   "execution_count": 13,
   "metadata": {},
   "outputs": [
    {
     "name": "stdout",
     "output_type": "stream",
     "text": [
      "['', '/Library/Frameworks/Python.framework/Versions/3.6/lib/python3.6/site-packages/termcolor-1.1.0-py3.6.egg', '/Library/Frameworks/Python.framework/Versions/3.6/lib/python3.6/site-packages/beautifulsoup4-4.6.3-py3.6.egg', '/Users/samuellevin/.ipython', '/Users/samuellevin/git/levinsamuel/boisbot', '/Library/Frameworks/Python.framework/Versions/3.6/lib/python3.6/site-packages/Werkzeug-0.14.1-py3.6.egg', '/Library/Frameworks/Python.framework/Versions/3.6/lib/python3.6/site-packages/tensorflow-1.12.0rc2-py3.6-macosx-10.9-x86_64.egg', '..', '/Library/Frameworks/Python.framework/Versions/3.6/lib/python3.6/site-packages/selenium-3.141.0-py3.6.egg', '/Library/Frameworks/Python.framework/Versions/3.6/lib/python3.6/site-packages/protobuf-3.6.1-py3.6-macosx-10.9-x86_64.egg', '/Library/Frameworks/Python.framework/Versions/3.6/lib/python3.6/site-packages/Keras_Applications-1.0.6-py3.6.egg', '/Library/Frameworks/Python.framework/Versions/3.6/lib/python3.6/site-packages/scipy-1.1.0-py3.6-macosx-10.9-x86_64.egg', '/Library/Frameworks/Python.framework/Versions/3.6/lib/python3.6/site-packages/Keras-2.2.4-py3.6.egg', '/Library/Frameworks/Python.framework/Versions/3.6/lib/python3.6/site-packages/urllib3-1.24.1-py3.6.egg', '/Library/Frameworks/Python.framework/Versions/3.6/lib/python3.6/site-packages/Markdown-3.0.1-py3.6.egg', '/Library/Frameworks/Python.framework/Versions/3.6/lib/python3.6/lib-dynload', '/Library/Frameworks/Python.framework/Versions/3.6/lib/python3.6', '/Library/Frameworks/Python.framework/Versions/3.6/lib/python3.6/site-packages', '/Library/Frameworks/Python.framework/Versions/3.6/lib/python3.6/site-packages/absl_py-0.6.1-py3.6.egg', '/Library/Frameworks/Python.framework/Versions/3.6/lib/python36.zip', '/Library/Frameworks/Python.framework/Versions/3.6/lib/python3.6/site-packages/astor-0.7.1-py3.6.egg', '/Library/Frameworks/Python.framework/Versions/3.6/lib/python3.6/site-packages/IPython/extensions', '/Library/Frameworks/Python.framework/Versions/3.6/lib/python3.6/site-packages/grpcio-1.16.0-py3.6-macosx-10.9-x86_64.egg', '/Library/Frameworks/Python.framework/Versions/3.6/lib/python3.6/site-packages/tensorboard-1.12.0-py3.6.egg', '/Library/Frameworks/Python.framework/Versions/3.6/lib/python3.6/site-packages/PyYAML-4.2b4-py3.6-macosx-10.9-x86_64.egg', '/Library/Frameworks/Python.framework/Versions/3.6/lib/python3.6/site-packages/wheel-0.32.2-py3.6.egg', '/Library/Frameworks/Python.framework/Versions/3.6/lib/python3.6/site-packages/Keras_Preprocessing-1.0.5-py3.6.egg', '/Library/Frameworks/Python.framework/Versions/3.6/lib/python3.6/site-packages/h5py-2.8.0-py3.6-macosx-10.9-x86_64.egg', '/Library/Frameworks/Python.framework/Versions/3.6/lib/python3.6/site-packages/numpy-1.15.3-py3.6-macosx-10.9-x86_64.egg', '/Library/Frameworks/Python.framework/Versions/3.6/lib/python3.6/site-packages/gast-0.2.0-py3.6.egg']\n"
     ]
    }
   ],
   "source": [
    "sps = set(sys.path)\n",
    "sps.add('..')\n",
    "sys.path = list(sps)\n",
    "print(sys.path)\n",
    "\n",
    "from core.util import data"
   ]
  },
  {
   "cell_type": "code",
   "execution_count": 3,
   "metadata": {},
   "outputs": [
    {
     "data": {
      "text/plain": [
       "['today is day one of the biggest project ive ever tried. it is called 17776 httpswww.sbnation.coma17776-football ',\n",
       " 'congratulations to all red sox fans who are staying up past three in the morning terrified that your unbelievably successful team wont win every game. you are now an honorary fox news grandpa',\n",
       " 'welcome to college football saturday',\n",
       " '.mlb 13th inning, suckers! im taking you rubes for at least four free innings of baseball. beware of jon the boring content bandit',\n",
       " 'things ive done in red dead 2 so far_- fought bear_- murdered by alligator_- killed 10 lawmen after being falsely accused of murder_- called a guy a coward and he ran away_- sat by a lake, reflected_- lassoed a guy off his horse, hogtied him, put him back on his own horse, left',\n",
       " 'red dead redemption 2 is a wonderful game. sending a fruit basket to the person who made it',\n",
       " 'twitter offered me extended logoff time if i volunteered to show up at the mall in my twitter uniform and recruit new posters',\n",
       " 'metacritic is great. it sidesteps the great gaming journalism and highlights all the stuff written like red dead redemption 2 is of a masterpiece. it is most definitely having a moment. when speaking of games it is whence a landmark.',\n",
       " 'working on stuff',\n",
       " 'the reason red dead redemption 2 is only a 97 on metacritic is that i gave it a 0. i just dont really like world war ii stuff']"
      ]
     },
     "execution_count": 3,
     "metadata": {},
     "output_type": "execute_result"
    }
   ],
   "source": [
    "with open('../data/5mintweets.txt') as f:\n",
    "    tweetstr=f.read()\n",
    "\n",
    "tweets=tweetstr.split('\\n')\n",
    "tweets[0:10]"
   ]
  },
  {
   "cell_type": "code",
   "execution_count": 4,
   "metadata": {},
   "outputs": [],
   "source": [
    "# Count characters and create map to integers\n",
    "chars=sorted(set(tweetstr))\n",
    "# Number of distinct characters\n",
    "chardict=len(chars)\n",
    "charcount=len(tweetstr)\n",
    "char_map={c:i for i,c in enumerate(chars)}"
   ]
  },
  {
   "cell_type": "code",
   "execution_count": 5,
   "metadata": {},
   "outputs": [
    {
     "name": "stdout",
     "output_type": "stream",
     "text": [
      "Total Patterns:  82090\n"
     ]
    }
   ],
   "source": [
    "# Create sub sequences of a fixed length to feed to network\n",
    "seq_length = 100\n",
    "dataX = []\n",
    "dataY = []\n",
    "for i in range(0, charcount - seq_length):\n",
    "    seq_in = tweetstr[i:i + seq_length]\n",
    "    seq_out = tweetstr[i + seq_length]\n",
    "    dataX.append([char_map[char] for char in seq_in])\n",
    "    dataY.append(char_map[seq_out])\n",
    "n_patterns = len(dataX)\n",
    "print (\"Total Patterns: \", n_patterns)"
   ]
  },
  {
   "cell_type": "code",
   "execution_count": 6,
   "metadata": {},
   "outputs": [],
   "source": [
    "# reshape X to be [samples, time steps, features]\n",
    "X = numpy.reshape(dataX, (n_patterns, seq_length, 1))\n",
    "# normalize\n",
    "X = X / float(chardict)\n",
    "# one hot encode the output variable\n",
    "y = np_utils.to_categorical(dataY)"
   ]
  },
  {
   "cell_type": "code",
   "execution_count": 7,
   "metadata": {},
   "outputs": [
    {
     "name": "stdout",
     "output_type": "stream",
     "text": [
      "47\n"
     ]
    }
   ],
   "source": [
    "# define the LSTM model\n",
    "model = Sequential()\n",
    "model.add(LSTM(256, input_shape=(X.shape[1], X.shape[2])))\n",
    "model.add(Dropout(0.2))\n",
    "model.add(Dense(y.shape[1], activation='softmax'))\n",
    "print(y.shape[1])\n",
    "model.compile(loss='categorical_crossentropy', optimizer='adam')"
   ]
  },
  {
   "cell_type": "code",
   "execution_count": 8,
   "metadata": {},
   "outputs": [],
   "source": [
    "# define the checkpoint\n",
    "pathlib.Path(\"../out/checkpoints\").mkdir(exist_ok=True)\n",
    "filepath=\"../out/checkpoints/weights-{epoch:02d}-{loss:.4f}.hdf5\"\n",
    "checkpoint = ModelCheckpoint(filepath, monitor='loss', verbose=1, save_best_only=True, mode='min')\n",
    "callbacks_list = [checkpoint]"
   ]
  },
  {
   "cell_type": "code",
   "execution_count": 9,
   "metadata": {},
   "outputs": [],
   "source": [
    "# Fit model\n",
    "# model.fit(X, y, epochs=20, batch_size=128, callbacks=callbacks_list)"
   ]
  },
  {
   "cell_type": "code",
   "execution_count": 10,
   "metadata": {},
   "outputs": [
    {
     "name": "stdout",
     "output_type": "stream",
     "text": [
      "['weights-20-2.4457%%jon_bois%%.hdf5']\n",
      "<class 'str'>\n",
      "Help on method_descriptor:\n",
      "\n",
      "find(...)\n",
      "    S.find(sub[, start[, end]]) -> int\n",
      "    \n",
      "    Return the lowest index in S where substring sub is found,\n",
      "    such that sub is contained within S[start:end].  Optional\n",
      "    arguments start and end are interpreted as in slice notation.\n",
      "    \n",
      "    Return -1 on failure.\n",
      "\n",
      "Help on method_descriptor:\n",
      "\n",
      "replace(...)\n",
      "    S.replace(old, new[, count]) -> str\n",
      "    \n",
      "    Return a copy of S with all occurrences of substring\n",
      "    old replaced by new.  If the optional argument count is\n",
      "    given, only the first count occurrences are replaced.\n",
      "\n"
     ]
    }
   ],
   "source": [
    "fls=os.listdir(\"../model\")\n",
    "print(fls)\n",
    "print(type(fls[0]))\n",
    "help(str.find)\n",
    "help(str.replace)"
   ]
  },
  {
   "cell_type": "code",
   "execution_count": 14,
   "metadata": {},
   "outputs": [
    {
     "name": "stdout",
     "output_type": "stream",
     "text": [
      "<class 'numpy.ndarray'>\n",
      "(100, 1)\n",
      "(1, 100, 1)\n"
     ]
    }
   ],
   "source": [
    "numpy.random.randint(0, 1000)\n",
    "print(type(X))\n",
    "# print(X[12])\n",
    "print(X[12].shape)\n",
    "thrdX = numpy.reshape(X[12], (1,100,1))\n",
    "print(thrdX.shape)\n"
   ]
  },
  {
   "cell_type": "code",
   "execution_count": null,
   "metadata": {},
   "outputs": [],
   "source": []
  }
 ],
 "metadata": {
  "kernelspec": {
   "display_name": "Python 3",
   "language": "python",
   "name": "python3"
  },
  "language_info": {
   "codemirror_mode": {
    "name": "ipython",
    "version": 3
   },
   "file_extension": ".py",
   "mimetype": "text/x-python",
   "name": "python",
   "nbconvert_exporter": "python",
   "pygments_lexer": "ipython3",
   "version": "3.6.7"
  }
 },
 "nbformat": 4,
 "nbformat_minor": 2
}
