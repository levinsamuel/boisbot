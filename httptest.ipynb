{
 "cells": [
  {
   "cell_type": "code",
   "execution_count": 1,
   "metadata": {},
   "outputs": [],
   "source": [
    "import urllib.request as req\n",
    "from bs4 import BeautifulSoup as beausp\n",
    "import os, re, logging, sys, time\n",
    "\n",
    "logging.basicConfig(stream=sys.stderr, level=logging.INFO)\n",
    "log = logging.getLogger(\"main\")\n",
    "\n",
    "# Global vars\n",
    "\n",
    "stripurl=re.compile(pattern=r\"(https?://)?\\w+\\.\\S+\")\n",
    "stripnonword=re.compile(pattern=r\"\\b\\S*?\\W\\S*?\\b\")\n",
    "tweettextattrs={'class': 'tweet-text'}"
   ]
  },
  {
   "cell_type": "code",
   "execution_count": 2,
   "metadata": {},
   "outputs": [
    {
     "data": {
      "text/plain": [
       "'C:\\\\git\\\\levinsamuel\\\\boisbot\\\\data\\\\smaller.html'"
      ]
     },
     "execution_count": 2,
     "metadata": {},
     "output_type": "execute_result"
    }
   ],
   "source": [
    "# Get the real path to the file for the URL\n",
    "\n",
    "test_file=os.path.realpath('./data/smaller.html')\n",
    "test_file"
   ]
  },
  {
   "cell_type": "code",
   "execution_count": 3,
   "metadata": {},
   "outputs": [
    {
     "name": "stdout",
     "output_type": "stream",
     "text": [
      "Type of soup object is: <class 'bs4.BeautifulSoup'>\n"
     ]
    }
   ],
   "source": [
    "testpage='file:///' + test_file\n",
    "tpage = req.urlopen(url=testpage)\n",
    "tsoup = beausp(tpage, 'html.parser')\n",
    "print (f\"Type of soup object is: {type(tsoup)}\")"
   ]
  },
  {
   "cell_type": "code",
   "execution_count": 4,
   "metadata": {},
   "outputs": [
    {
     "name": "stdout",
     "output_type": "stream",
     "text": [
      "Help on method find in module bs4.element:\n",
      "\n",
      "find(name=None, attrs={}, recursive=True, text=None, **kwargs) method of bs4.BeautifulSoup instance\n",
      "    Return only the first child of this Tag matching the given\n",
      "    criteria.\n",
      "\n"
     ]
    }
   ],
   "source": [
    "twts=tsoup.findAll(name='p', attrs=tweettextattrs)\n",
    "help(tsoup.find)"
   ]
  },
  {
   "cell_type": "code",
   "execution_count": 5,
   "metadata": {},
   "outputs": [
    {
     "name": "stdout",
     "output_type": "stream",
     "text": [
      "Matches found: 2\n",
      "today is day one of the biggest project i’ve ever tried. it is called 17776: \n",
      "\n",
      "https://www.\n",
      "sbnation.com/a/17776-footba\n",
      "ll\n",
      "\n",
      " …\n",
      "pic.twitter.com/wUMUh15G7x\n",
      "\n"
     ]
    }
   ],
   "source": [
    "twtext=twts[0].text\n",
    "print(f\"Matches found: {len(twts)}\")\n",
    "print(twtext)"
   ]
  },
  {
   "cell_type": "code",
   "execution_count": 6,
   "metadata": {},
   "outputs": [
    {
     "name": "stdout",
     "output_type": "stream",
     "text": [
      "<_sre.SRE_Match object; span=(92, 119), match='sbnation.com/a/17776-footba'>\n"
     ]
    }
   ],
   "source": [
    "matcher=stripurl.search(string=twtext)\n",
    "print(matcher)\n"
   ]
  },
  {
   "cell_type": "code",
   "execution_count": 7,
   "metadata": {},
   "outputs": [],
   "source": [
    "mypage='https://twitter.com/jon_bois'\n",
    "page = req.urlopen(url=mypage)\n",
    "soup = beausp(page, 'html.parser')"
   ]
  },
  {
   "cell_type": "code",
   "execution_count": 8,
   "metadata": {},
   "outputs": [
    {
     "name": "stdout",
     "output_type": "stream",
     "text": [
      "Tweets found: 21\n"
     ]
    }
   ],
   "source": [
    "log.setLevel(logging.INFO)\n",
    "\n",
    "realtwts=soup.findAll(name='p', attrs=tweettextattrs)\n",
    "print(f\"Tweets found: {len(realtwts)}\")\n",
    "\n",
    "for twt in realtwts:\n",
    "    log.debug(twt.text)"
   ]
  },
  {
   "cell_type": "code",
   "execution_count": 9,
   "metadata": {},
   "outputs": [
    {
     "name": "stdout",
     "output_type": "stream",
     "text": [
      "Tweets found: 19\n",
      "First tweet text: today is day one of the biggest project i’ve ever tried. it is called 17776: https://www.sbnation.com/a/17776-football …pic.twitter.com/wUMUh15G7x\n",
      "Stripped urls: today is day one of the biggest project i’ve ever tried. it is called 17776:  …\n",
      "Stripped non words: wUMUh15G7x\n"
     ]
    }
   ],
   "source": [
    "outertwts=soup.findAll(name='div', attrs={'class':'tweet',\n",
    "                                          'data-screen-name':'jon_bois'})\n",
    "print(f\"Tweets found: {len(outertwts)}\")\n",
    "\n",
    "twt1=outertwts[0]\n",
    "twttext=twt1.find(name='p', attrs=tweettextattrs)\n",
    "\n",
    "print(f\"First tweet text: {twttext.text}\")\n",
    "\n",
    "nourls=stripurl.sub(string=twttext.text, repl=\"\")\n",
    "print(f\"Stripped urls: {nourls}\")\n",
    "\n",
    "nononwords=stripnonword.sub(string=twttext.text, repl=\"\")\n",
    "print(f\"Stripped non words: {nononwords}\")"
   ]
  }
 ],
 "metadata": {
  "kernelspec": {
   "display_name": "Python 3",
   "language": "python",
   "name": "python3"
  },
  "language_info": {
   "codemirror_mode": {
    "name": "ipython",
    "version": 3
   },
   "file_extension": ".py",
   "mimetype": "text/x-python",
   "name": "python",
   "nbconvert_exporter": "python",
   "pygments_lexer": "ipython3",
   "version": "3.6.5"
  }
 },
 "nbformat": 4,
 "nbformat_minor": 2
}
