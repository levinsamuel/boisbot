{
 "cells": [
  {
   "cell_type": "code",
   "execution_count": null,
   "metadata": {},
   "outputs": [],
   "source": [
    "import urllib.request as req\n",
    "from bs4 import BeautifulSoup as beausp\n",
    "import os, re, logging, sys, time\n",
    "\n",
    "logging.basicConfig(stream=sys.stderr, level=logging.INFO)\n",
    "log = logging.getLogger(\"main\")\n",
    "\n",
    "# Global vars\n",
    "\n",
    "stripurl=re.compile(pattern=r\"(https?://)?\\w+\\.\\S+\")\n",
    "stripnonword=re.compile(pattern=r\"\\b\\S*?\\W\\S*?\\b\")\n",
    "tweettextattrs={'class': 'tweet-text'}"
   ]
  },
  {
   "cell_type": "code",
   "execution_count": null,
   "metadata": {},
   "outputs": [],
   "source": [
    "# Get the real path to the file for the URL\n",
    "\n",
    "test_file=os.path.realpath('./data/smaller.html')\n",
    "test_file"
   ]
  },
  {
   "cell_type": "code",
   "execution_count": null,
   "metadata": {},
   "outputs": [],
   "source": [
    "testpage='file:///' + test_file\n",
    "tpage = req.urlopen(url=testpage)\n",
    "tsoup = beausp(tpage, 'html.parser')"
   ]
  },
  {
   "cell_type": "code",
   "execution_count": null,
   "metadata": {},
   "outputs": [],
   "source": [
    "twts=tsoup.findAll(name='p', attrs=tweettextattrs)\n",
    "help(tsoup.find)"
   ]
  },
  {
   "cell_type": "code",
   "execution_count": null,
   "metadata": {},
   "outputs": [],
   "source": [
    "twtext=twts[0].text\n",
    "print(f\"Matches found: {len(twts)}\")\n",
    "print(twtext)"
   ]
  },
  {
   "cell_type": "code",
   "execution_count": null,
   "metadata": {},
   "outputs": [],
   "source": [
    "matcher=stripurl.search(string=twtext)\n",
    "print(matcher)\n"
   ]
  },
  {
   "cell_type": "code",
   "execution_count": null,
   "metadata": {},
   "outputs": [],
   "source": [
    "mypage='https://twitter.com/jon_bois'\n",
    "page = req.urlopen(url=mypage)\n",
    "soup = beausp(page, 'html.parser')"
   ]
  },
  {
   "cell_type": "code",
   "execution_count": null,
   "metadata": {},
   "outputs": [],
   "source": [
    "log.setLevel(logging.INFO)\n",
    "\n",
    "realtwts=soup.findAll(name='p', attrs=tweettextattrs)\n",
    "print(f\"Tweets found: {len(realtwts)}\")\n",
    "\n",
    "for twt in realtwts:\n",
    "    log.debug(twt.text)"
   ]
  },
  {
   "cell_type": "code",
   "execution_count": null,
   "metadata": {},
   "outputs": [],
   "source": [
    "outertwts=soup.findAll(name='div', attrs={'class':'tweet',\n",
    "                                          'data-screen-name':'jon_bois'})\n",
    "print(f\"Tweets found: {len(outertwts)}\")\n",
    "\n",
    "twt1=outertwts[0]\n",
    "twttext=twt1.find(name='p', attrs=tweettextattrs)\n",
    "\n",
    "print(f\"First tweet text: {twttext.text}\")\n",
    "\n",
    "nourls=stripurl.sub(string=twttext.text, repl=\"\")\n",
    "print(f\"Stripped urls: {nourls}\")\n",
    "\n",
    "nononwords=stripnonword.sub(string=twttext.text, repl=\"\")\n",
    "print(f\"Stripped non words: {nononwords}\")"
   ]
  }
 ],
 "metadata": {
  "kernelspec": {
   "display_name": "Python 3",
   "language": "python",
   "name": "python3"
  },
  "language_info": {
   "codemirror_mode": {
    "name": "ipython",
    "version": 3
   },
   "file_extension": ".py",
   "mimetype": "text/x-python",
   "name": "python",
   "nbconvert_exporter": "python",
   "pygments_lexer": "ipython3",
   "version": "3.6.5"
  }
 },
 "nbformat": 4,
 "nbformat_minor": 2
}
