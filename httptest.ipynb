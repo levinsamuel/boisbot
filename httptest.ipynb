{
 "cells": [
  {
   "cell_type": "code",
   "execution_count": 20,
   "metadata": {},
   "outputs": [],
   "source": [
    "import urllib.request as req\n",
    "from bs4 import BeautifulSoup as beausp\n",
    "import os, re, logging, sys\n",
    "\n",
    "logging.basicConfig(stream=sys.stderr, level=logging.INFO)\n",
    "log = logging.getLogger(\"main\")\n",
    "\n",
    "# Global vars\n",
    "\n",
    "stripurl=re.compile(pattern=r\"(https?://)?\\w+\\.\\S+\")\n",
    "stripnonword=re.compile(pattern=r\"\\b\\S*?\\W\\S*?\\b\")\n",
    "tweettextattrs={'class': 'tweet-text'}"
   ]
  },
  {
   "cell_type": "code",
   "execution_count": 2,
   "metadata": {},
   "outputs": [
    {
     "data": {
      "text/plain": [
       "'C:\\\\git\\\\levinsamuel\\\\boisbot\\\\data\\\\smaller.html'"
      ]
     },
     "execution_count": 2,
     "metadata": {},
     "output_type": "execute_result"
    }
   ],
   "source": [
    "# Get the real path to the file for the URL\n",
    "\n",
    "test_file=os.path.realpath('./data/smaller.html')\n",
    "test_file"
   ]
  },
  {
   "cell_type": "code",
   "execution_count": 3,
   "metadata": {},
   "outputs": [],
   "source": [
    "testpage='file:///' + test_file\n",
    "tpage = req.urlopen(url=testpage)\n",
    "tsoup = beausp(tpage, 'html.parser')"
   ]
  },
  {
   "cell_type": "code",
   "execution_count": 4,
   "metadata": {},
   "outputs": [
    {
     "name": "stdout",
     "output_type": "stream",
     "text": [
      "Help on method find in module bs4.element:\n",
      "\n",
      "find(name=None, attrs={}, recursive=True, text=None, **kwargs) method of bs4.BeautifulSoup instance\n",
      "    Return only the first child of this Tag matching the given\n",
      "    criteria.\n",
      "\n"
     ]
    }
   ],
   "source": [
    "twts=tsoup.findAll(name='p', attrs=tweettextattrs)\n",
    "help(tsoup.find)"
   ]
  },
  {
   "cell_type": "code",
   "execution_count": 5,
   "metadata": {},
   "outputs": [
    {
     "name": "stdout",
     "output_type": "stream",
     "text": [
      "Matches found: 2\n",
      "today is day one of the biggest project i’ve ever tried. it is called 17776: \n",
      "\n",
      "https://www.\n",
      "sbnation.com/a/17776-footba\n",
      "ll\n",
      "\n",
      " …\n",
      "pic.twitter.com/wUMUh15G7x\n",
      "\n"
     ]
    }
   ],
   "source": [
    "twtext=twts[0].text\n",
    "print(f\"Matches found: {len(twts)}\")\n",
    "print(twtext)"
   ]
  },
  {
   "cell_type": "code",
   "execution_count": 6,
   "metadata": {},
   "outputs": [
    {
     "name": "stdout",
     "output_type": "stream",
     "text": [
      "<_sre.SRE_Match object; span=(79, 154), match='https://www.\\nsbnation.com/a/17776-footba\\nll\\n\\n>\n"
     ]
    }
   ],
   "source": [
    "matcher=stripurl.search(string=twtext)\n",
    "print(matcher)\n"
   ]
  },
  {
   "cell_type": "code",
   "execution_count": 7,
   "metadata": {},
   "outputs": [],
   "source": [
    "mypage='https://twitter.com/jon_bois'\n",
    "page = req.urlopen(url=mypage)\n",
    "soup = beausp(page, 'html.parser')"
   ]
  },
  {
   "cell_type": "code",
   "execution_count": 8,
   "metadata": {},
   "outputs": [
    {
     "name": "stderr",
     "output_type": "stream",
     "text": [
      "DEBUG:main:today is day one of the biggest project i’ve ever tried. it is called 17776: https://www.sbnation.com/a/17776-football …pic.twitter.com/wUMUh15G7x\n",
      "DEBUG:main:this might be the best one they’ve done so farhttps://twitter.com/corysnearowski/status/1054760932700839937 …\n",
      "DEBUG:main:I replayed the original Red Dead Redemption, and it’s still the best Western ever made.https://www.polygon.com/red-dead-redemption/2018/10/23/17986758/red-dead-redemption-best-western-game …\n",
      "DEBUG:main:i miss having jon gruden in the booth. he delivered an unwavering, fieri-like spirit of enthusiasm during an otherwise bad weeknight football game. we were pals\n",
      "DEBUG:main:this is a periodical expression of appreciation for all the trans/nb people who follow me. love y’all <3\n",
      "DEBUG:main:whoops i only searched post-merger era (1970-present). namath had a lot more before then. thanks @gwbecher, sorry joe https://twitter.com/gwbecher/status/1054216427220148224 …\n",
      "DEBUG:main:excited to watch the fourth quarter of a nationally-televised blowout featuring two teams that have never lost their cool before\n",
      "DEBUG:main:my favorite team is good because of something i did\n",
      "DEBUG:main:yeah, the guy who made it needs to balance his audio betterhttps://twitter.com/Brockameron/status/1054167412562714624 …\n",
      "DEBUG:main:it’d be cool if the play that starts every football game mattered at all\n",
      "DEBUG:main:pic.twitter.com/ha2plNOGGf\n",
      "DEBUG:main:nobody can score in this game becuase there is no balpic.twitter.com/nbyHjIUk30\n",
      "DEBUG:main:BUF 5 - 37 IND\n",
      "Final\n",
      "\n",
      "That's Scorigami!! It's the 1044th unique final score in NFL history.\n",
      "DEBUG:main:every sportswriter still has at least a dozen screenshots on their hard drive from 2011 that look like this because we weren’t fast enoughpic.twitter.com/5lrngT2JB2\n",
      "DEBUG:main:ah, it seems there are many nfl games afoot\n",
      "DEBUG:main:so are some colleges better than other ones? they’re all basically the same, right? what’s the deal with all that\n",
      "DEBUG:main:watching football and reacting to what happens\n",
      "DEBUG:main:welcome to college football saturday\n",
      "DEBUG:main:i’ve got nlcs game 6, nlcs game 7 if necessary, world series game 1, world series game 2, world series game 3, world series game 4, world series game 5 if necessary, world series game 6 if necessary, and world series game 7 if necessary fever\n",
      "DEBUG:main:y’all know @MacAree? he helped me make 17776 and i absolutely couldn’t have done it without him. his home was just hit by a historically bad flood and tons of his stuff is ruined. if you’d like to chip in and help out my buddy:https://www.gofundme.com/flooded-sofa-replacement-fund …\n",
      "DEBUG:main:playing video gamespic.twitter.com/spaFuR1gmC\n"
     ]
    },
    {
     "name": "stdout",
     "output_type": "stream",
     "text": [
      "Tweets found: 21\n"
     ]
    }
   ],
   "source": [
    "log.setLevel(logging.DEBUG)\n",
    "\n",
    "realtwts=soup.findAll(name='p', attrs=tweettextattrs)\n",
    "print(f\"Tweets found: {len(realtwts)}\")\n",
    "\n",
    "for twt in realtwts:\n",
    "    log.debug(twt.text)"
   ]
  },
  {
   "cell_type": "code",
   "execution_count": 21,
   "metadata": {},
   "outputs": [
    {
     "name": "stdout",
     "output_type": "stream",
     "text": [
      "Tweets found: 21\n",
      "First tweet text: today is day one of the biggest project i’ve ever tried. it is called 17776: https://www.sbnation.com/a/17776-football …pic.twitter.com/wUMUh15G7x\n",
      "Stripped urls: today is day one of the biggest project i’ve ever tried. it is called 17776:  …\n",
      "Stripped non words: wUMUh15G7x\n"
     ]
    }
   ],
   "source": [
    "outertwts=soup.findAll(name='div', attrs={'class':'tweet',\n",
    "                                          'data-screen-name':'jon_bois'})\n",
    "print(f\"Tweets found: {len(realtwts)}\")\n",
    "\n",
    "twt1=outertwts[0]\n",
    "twttext=twt1.find(name='p', attrs=tweettextattrs)\n",
    "\n",
    "print(f\"First tweet text: {twttext.text}\")\n",
    "\n",
    "nourls=stripurl.sub(string=twttext.text, repl=\"\")\n",
    "print(f\"Stripped urls: {nourls}\")\n",
    "\n",
    "nononwords=stripnonword.sub(string=twttext.text, repl=\"\")\n",
    "print(f\"Stripped non words: {nononwords}\")"
   ]
  }
 ],
 "metadata": {
  "kernelspec": {
   "display_name": "Python 3",
   "language": "python",
   "name": "python3"
  },
  "language_info": {
   "codemirror_mode": {
    "name": "ipython",
    "version": 3
   },
   "file_extension": ".py",
   "mimetype": "text/x-python",
   "name": "python",
   "nbconvert_exporter": "python",
   "pygments_lexer": "ipython3",
   "version": "3.6.5"
  }
 },
 "nbformat": 4,
 "nbformat_minor": 2
}
